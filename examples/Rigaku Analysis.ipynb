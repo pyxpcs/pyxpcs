{
 "cells": [
  {
   "cell_type": "code",
   "execution_count": null,
   "metadata": {},
   "outputs": [],
   "source": [
    "import numpy as np\n",
    "\n",
    "from pyxpcs.config import PyXPCSDict\n",
    "\n",
    "from pyxpcs.utils import config_from_8idhdf5, load_results\n",
    "from pyxpcs.viz import plot_pix_sum, plot_as_image\n",
    "\n"
   ]
  },
  {
   "cell_type": "code",
   "execution_count": null,
   "metadata": {},
   "outputs": [],
   "source": [
    "Rigaku_FILE = \"\"\n",
    "HDF5_FILE = \"\""
   ]
  },
  {
   "cell_type": "code",
   "execution_count": null,
   "metadata": {},
   "outputs": [],
   "source": [
    "config = config_from_8idhdf5(HDF5_FILE)\n",
    "try:\n",
    "    import pandas as pd\n",
    "    df = pd.DataFrame.from_dict(config, orient='index')\n",
    "    print(df)\n",
    "except:\n",
    "    pass"
   ]
  },
  {
   "cell_type": "code",
   "execution_count": null,
   "metadata": {},
   "outputs": [],
   "source": [
    "with open(Rigaku_FILE) as f:\n",
    "    a = np.fromfile(f, dtype=np.uint64)\n",
    "    \n",
    "    b = (a >> 5+11)\n",
    "    pix_ind = (b & 2**21-1).astype(int)\n",
    "    pix_count = (a & 2**12-1).astype(int)\n",
    "    pix_frame = (a >> 64-24).astype(int)\n"
   ]
  },
  {
   "cell_type": "code",
   "execution_count": null,
   "metadata": {},
   "outputs": [],
   "source": [
    "pix_ind"
   ]
  },
  {
   "cell_type": "code",
   "execution_count": null,
   "metadata": {},
   "outputs": [],
   "source": [
    "max(pix_frame)+1\n"
   ]
  },
  {
   "cell_type": "code",
   "execution_count": null,
   "metadata": {},
   "outputs": [],
   "source": [
    "pix_count"
   ]
  },
  {
   "cell_type": "code",
   "execution_count": null,
   "metadata": {},
   "outputs": [],
   "source": [
    "%%time\n",
    "import libpyxpcs as libpx\n"
   ]
  },
  {
   "cell_type": "code",
   "execution_count": null,
   "metadata": {},
   "outputs": [],
   "source": [
    "%%time\n",
    "sparse_data = libpx.sparse_lil_index_value_count(pix_ind, pix_frame, pix_count, np.max(pix_ind)+1)"
   ]
  },
  {
   "cell_type": "code",
   "execution_count": null,
   "metadata": {},
   "outputs": [],
   "source": [
    "%%time\n",
    "mini_config = {\n",
    "    'frames': config['frames'] if 'frames' in config else max(pix_frame)+1,\n",
    "    'pixels': config['cols'] * config['rows'],\n",
    "    'delays_per_level': config['delays_per_level'] if 'delays_per_level' in config else 4,\n",
    "    'rows': config['rows'],\n",
    "    'cols': config['cols'],  \n",
    "}\n",
    "\n",
    "G2, IP, IF = libpx.multitau(sparse_data, mini_config)"
   ]
  },
  {
   "cell_type": "code",
   "execution_count": null,
   "metadata": {},
   "outputs": [],
   "source": [
    "G2_plot = G2[0].reshape(config['rows'], config['cols'])\n",
    "plot_as_image(G2_plot)"
   ]
  },
  {
   "cell_type": "code",
   "execution_count": null,
   "metadata": {},
   "outputs": [],
   "source": [
    "G2.shape"
   ]
  },
  {
   "cell_type": "code",
   "execution_count": null,
   "metadata": {},
   "outputs": [],
   "source": []
  }
 ],
 "metadata": {
  "kernelspec": {
   "display_name": "whydis",
   "language": "python",
   "name": "whydis"
  },
  "language_info": {
   "codemirror_mode": {
    "name": "ipython",
    "version": 3
   },
   "file_extension": ".py",
   "mimetype": "text/x-python",
   "name": "python",
   "nbconvert_exporter": "python",
   "pygments_lexer": "ipython3",
   "version": "3.7.3"
  },
  "toc": {
   "base_numbering": 1,
   "nav_menu": {},
   "number_sections": true,
   "sideBar": true,
   "skip_h1_title": false,
   "title_cell": "Table of Contents",
   "title_sidebar": "Contents",
   "toc_cell": false,
   "toc_position": {},
   "toc_section_display": true,
   "toc_window_display": false
  }
 },
 "nbformat": 4,
 "nbformat_minor": 2
}
