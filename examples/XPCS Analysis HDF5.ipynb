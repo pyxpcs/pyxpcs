{
 "cells": [
  {
   "cell_type": "markdown",
   "metadata": {},
   "source": [
    "# Analysis-I: Basic Analysis done through python wrapper and compared with out C++ code."
   ]
  },
  {
   "cell_type": "markdown",
   "metadata": {},
   "source": [
    "This analysis is for comparing xpcs-eigen results to pyxpcs results. The input to analysis is specific to 8-id-i IMM file format. "
   ]
  },
  {
   "cell_type": "code",
   "execution_count": null,
   "metadata": {},
   "outputs": [],
   "source": [
    "%load_ext autoreload\n",
    "%autoreload\n",
    "\n",
    "import numpy as np\n",
    "import h5py\n",
    "\n",
    "from pyxpcs.structs import PyXPCSArray\n",
    "from pyxpcs.config import PyXPCSDict\n",
    "from pyxpcs.utils import config_from_8idhdf5, load_results\n",
    "from pyxpcs.viz import plot_pix_sum, plot_as_image\n",
    "\n",
    "import matplotlib.pyplot as plt\n",
    "\n",
    "import libpyxpcs as libpx\n",
    "\n",
    "from pprint import pprint"
   ]
  },
  {
   "cell_type": "markdown",
   "metadata": {},
   "source": [
    "## Input Data\n",
    "\n",
    "Specify the input IMM file to use. The result file from the xpcs-eigen analysis that contains G2, IP, and IF. The HDF5 file that will be used to run the pyxpcs analysis."
   ]
  },
  {
   "cell_type": "code",
   "execution_count": null,
   "metadata": {},
   "outputs": [],
   "source": [
    "HDF5_FILE = \"\"\n",
    "HDF5_DATA_FILE = \"\"\n"
   ]
  },
  {
   "cell_type": "markdown",
   "metadata": {},
   "source": [
    "## Configuration\n",
    "\n",
    "Load the configuration that are specific to 8-ID-I\n"
   ]
  },
  {
   "cell_type": "code",
   "execution_count": null,
   "metadata": {},
   "outputs": [],
   "source": [
    "config = config_from_8idhdf5(HDF5_FILE)\n",
    "try:\n",
    "    import pandas as pd\n",
    "    df = pd.DataFrame.from_dict(config, orient='index')\n",
    "    print(df)\n",
    "except:\n",
    "    pass"
   ]
  },
  {
   "cell_type": "markdown",
   "metadata": {},
   "source": [
    "## Load data\n"
   ]
  },
  {
   "cell_type": "code",
   "execution_count": null,
   "metadata": {},
   "outputs": [],
   "source": [
    "f = h5py.File(HDF5_DATA_FILE, 'r')\n",
    "paths = f[\"/\"].keys()\n"
   ]
  },
  {
   "cell_type": "code",
   "execution_count": null,
   "metadata": {},
   "outputs": [],
   "source": [
    "data = f['/entry/data/data'][:]"
   ]
  },
  {
   "cell_type": "code",
   "execution_count": null,
   "metadata": {},
   "outputs": [],
   "source": [
    "data.shape"
   ]
  },
  {
   "cell_type": "code",
   "execution_count": null,
   "metadata": {},
   "outputs": [],
   "source": [
    "sparse_data = libpx.sparse_lil_value(data)"
   ]
  },
  {
   "cell_type": "code",
   "execution_count": null,
   "metadata": {},
   "outputs": [],
   "source": [
    "plot_as_image(data[0, :, :])"
   ]
  },
  {
   "cell_type": "code",
   "execution_count": null,
   "metadata": {},
   "outputs": [],
   "source": [
    "# This is very slow and is only for testing. \n",
    "# the_frame = np.zeros(data.shape[1]*data.shape[2])                  \n",
    "# frame_to_plot = 0\n",
    "\n",
    "# for idx in range(data.shape[1]*data.shape[2]):\n",
    "#     row = sparse_data.Pixel(idx)\n",
    "#     for fno, value in zip(row.indxPtr, row.valPtr):\n",
    "#         if fno == frame_to_plot:\n",
    "#             the_frame[idx] = value\n",
    "#             break\n",
    "# plot_as_image(the_frame.reshape(data.shape[1], data.shape[2]))"
   ]
  },
  {
   "cell_type": "markdown",
   "metadata": {},
   "source": [
    "## Analysis\n"
   ]
  },
  {
   "cell_type": "code",
   "execution_count": null,
   "metadata": {},
   "outputs": [],
   "source": [
    "mini_config = {\n",
    "    'frames': config['frames'] if 'frames' in config else data.shape[0],\n",
    "    'pixels': config['cols'] * config['rows'],\n",
    "    'delays_per_level': config['delays_per_level'] if 'delyas_per_level' in config else 4,\n",
    "    'rows': config['rows'],\n",
    "    'cols': config['cols'],  \n",
    "}\n",
    "\n",
    "G2, IP, IF = libpx.multitau(sparse_data, mini_config)"
   ]
  },
  {
   "cell_type": "code",
   "execution_count": null,
   "metadata": {},
   "outputs": [],
   "source": [
    "# In order to plot G2.\n",
    "G2_plot = G2[0].reshape(config['cols'], config['rows'])\n",
    "plot_as_image(G2_plot)"
   ]
  },
  {
   "cell_type": "code",
   "execution_count": null,
   "metadata": {},
   "outputs": [],
   "source": [
    "IP_plot = IP[0].reshape(config['cols'], config['rows'])\n",
    "plot_as_image(IP_plot)"
   ]
  },
  {
   "cell_type": "code",
   "execution_count": null,
   "metadata": {},
   "outputs": [],
   "source": [
    "IF_plot = IF[0].reshape(config['cols'], config['rows'])\n",
    "plot_as_image(IF_plot)"
   ]
  },
  {
   "cell_type": "markdown",
   "metadata": {},
   "source": [
    "### g2 stderror"
   ]
  },
  {
   "cell_type": "code",
   "execution_count": null,
   "metadata": {},
   "outputs": [],
   "source": [
    "def compute_g2(G2, IP, IF, config):\n",
    "\n",
    "    taus, pixels = G2.shape\n",
    "\n",
    "    total_static_partitions = np.max(config['sqmap'])\n",
    "    total_dynamic_partitions = np.max(config['dqmap'])\n",
    "\n",
    "    # Final results\n",
    "    g2 = np.zeros((taus, total_dynamic_partitions))\n",
    "    g2_error = np.zeros((taus, total_dynamic_partitions))\n",
    "\n",
    "    g2Sums = np.zeros((taus, total_static_partitions))\n",
    "    ipSums = np.zeros((taus, total_static_partitions))\n",
    "    ifSums = np.zeros((taus, total_static_partitions))\n",
    "\n",
    "    dqmap = config['dqmap']\n",
    "    sqmap = config['sqmap']\n",
    "\n",
    "\n",
    "    IP_IF = IP * IF\n",
    "    normalizedG2 = G2 /  (np.where( IP_IF != 0, IP_IF, 10000))\n",
    "\n",
    "    # sum pixels for each static partitions\n",
    "    for i in range(total_static_partitions):\n",
    "        idx = (sqmap == i+1)\n",
    "        g2Sums[:, i] = np.mean(G2[:, idx.flatten()], axis=1)\n",
    "        ipSums[:, i] = np.mean(IP[:, idx.flatten()], axis=1)\n",
    "        ifSums[:, i] = np.mean(IF[:, idx.flatten()], axis=1)\n",
    "\n",
    "    ip_if_sums = ipSums * ifSums\n",
    "\n",
    "    # Compute G2 error. \n",
    "    for i in range(total_dynamic_partitions):\n",
    "        idx = (dqmap == i + 1)\n",
    "        idx = idx.flatten()\n",
    "        g2_error[:, i] = np.std(normalizedG2[:, idx], axis=1) / np.sqrt(pixels)\n",
    "\n",
    "    for i in range(total_dynamic_partitions):\n",
    "        low, high = np.amin(sqmap[dqmap == i+1]), np.max(sqmap[dqmap == i+1])\n",
    "        tmp_g2_sum = g2Sums[:, low-1:high-1]\n",
    "        g2[:, i] = np.mean(tmp_g2_sum / ip_if_sums[:, low-1:high-1], axis=1)\n",
    "    \n",
    "    return g2, g2_error"
   ]
  },
  {
   "cell_type": "code",
   "execution_count": null,
   "metadata": {},
   "outputs": [],
   "source": [
    "g2, g2_error = compute_g2(G2, IP, IF, config)\n",
    "print(g2.shape)"
   ]
  },
  {
   "cell_type": "code",
   "execution_count": null,
   "metadata": {},
   "outputs": [],
   "source": [
    "g2_q0 = g2[:, 0]"
   ]
  },
  {
   "cell_type": "code",
   "execution_count": null,
   "metadata": {},
   "outputs": [],
   "source": [
    "plt.plot(g2_q0)"
   ]
  },
  {
   "cell_type": "markdown",
   "metadata": {},
   "source": [
    "## Verification\n",
    "\n",
    "Verify the results with the C++ version directly"
   ]
  },
  {
   "cell_type": "code",
   "execution_count": null,
   "metadata": {},
   "outputs": [],
   "source": [
    "config2 = config_from_8idhdf5(RESULT_FILE)"
   ]
  },
  {
   "cell_type": "code",
   "execution_count": null,
   "metadata": {},
   "outputs": [],
   "source": [
    "ret = load_results(RESULT_FILE, '/exchange', ['pixelSum', 'G2', 'IP', 'IF'])\n",
    "\n",
    "pixel_sum_computed = ret['pixelSum']\n",
    "G2_computed = ret['G2']\n",
    "IP_computed = ret['IP']\n",
    "IF_computed = ret['IF']"
   ]
  },
  {
   "cell_type": "code",
   "execution_count": null,
   "metadata": {},
   "outputs": [],
   "source": [
    "plot_pix_sum(pixel_sum_computed, config2)"
   ]
  },
  {
   "cell_type": "code",
   "execution_count": null,
   "metadata": {},
   "outputs": [],
   "source": [
    "plot_as_image(G2_computed[0].reshape(config2['cols'], config2['rows']))"
   ]
  },
  {
   "cell_type": "code",
   "execution_count": null,
   "metadata": {},
   "outputs": [],
   "source": [
    "plot_as_image(IP_computed[0].reshape(config2['cols'], config2['rows']))"
   ]
  },
  {
   "cell_type": "code",
   "execution_count": null,
   "metadata": {},
   "outputs": [],
   "source": [
    "plot_as_image(IF_computed[0].reshape(config2['cols'], config2['rows']))"
   ]
  }
 ],
 "metadata": {
  "kernelspec": {
   "display_name": "Python 3",
   "language": "python",
   "name": "python3"
  },
  "language_info": {
   "codemirror_mode": {
    "name": "ipython",
    "version": 3
   },
   "file_extension": ".py",
   "mimetype": "text/x-python",
   "name": "python",
   "nbconvert_exporter": "python",
   "pygments_lexer": "ipython3",
   "version": "3.7.3"
  },
  "toc": {
   "base_numbering": 1,
   "nav_menu": {},
   "number_sections": true,
   "sideBar": true,
   "skip_h1_title": false,
   "title_cell": "Table of Contents",
   "title_sidebar": "Contents",
   "toc_cell": false,
   "toc_position": {},
   "toc_section_display": true,
   "toc_window_display": false
  }
 },
 "nbformat": 4,
 "nbformat_minor": 2
}
