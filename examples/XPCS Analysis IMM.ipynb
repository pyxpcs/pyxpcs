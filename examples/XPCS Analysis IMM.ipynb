{
 "cells": [
  {
   "cell_type": "markdown",
   "metadata": {},
   "source": [
    "# XPCS Analysis using PyXPCS"
   ]
  },
  {
   "cell_type": "code",
   "execution_count": null,
   "metadata": {},
   "outputs": [],
   "source": [
    "%load_ext autoreload\n",
    "%autoreload\n",
    "\n",
    "import numpy as np\n",
    "\n",
    "# File reader \n",
    "from pyxpcs.reader import IMMReader8ID\n",
    "\n",
    "# Configuration classes for loading metadata from HDF5 file\n",
    "from pyxpcs.config import PyXPCSDict\n",
    "from pyxpcs.utils import config_from_8idhdf5, load_results\n",
    "\n",
    "# Simple visualization.\n",
    "from pyxpcs.viz import plot_pix_sum, plot_as_image\n",
    "\n",
    "# Computation function\n",
    "from pyxpcs.algorithms import to_sparse_matrix, multitau\n",
    "\n",
    "import matplotlib.pyplot as plt\n",
    "\n",
    "from libpyxpcs import sparse_lil_index_value\n",
    "\n",
    "from pprint import pprint"
   ]
  },
  {
   "cell_type": "markdown",
   "metadata": {},
   "source": [
    "## Input Data\n",
    "\n",
    "Specify the input IMM file to use. The result file from the xpcs-eigen analysis that contains G2, IP, and IF. The HDF5 file that will be used to run the pyxpcs analysis."
   ]
  },
  {
   "cell_type": "code",
   "execution_count": null,
   "metadata": {},
   "outputs": [],
   "source": [
    "IMM_FILE = \"\"\n",
    "HDF5_FILE = \"\""
   ]
  },
  {
   "cell_type": "markdown",
   "metadata": {},
   "source": [
    "## Configuration\n",
    "\n",
    "Load the configuration that are specific to 8-ID-I\n"
   ]
  },
  {
   "cell_type": "code",
   "execution_count": null,
   "metadata": {},
   "outputs": [],
   "source": [
    "config = config_from_8idhdf5(HDF5_FILE)\n",
    "try:\n",
    "    import pandas as pd\n",
    "    df = pd.DataFrame.from_dict(config, orient='index')\n",
    "    print(df)\n",
    "except:\n",
    "    pass"
   ]
  },
  {
   "cell_type": "code",
   "execution_count": null,
   "metadata": {},
   "outputs": [],
   "source": [
    "mask = config['dqmap'].flatten()\n",
    "mask"
   ]
  },
  {
   "cell_type": "markdown",
   "metadata": {},
   "source": [
    "## Load data\n"
   ]
  },
  {
   "cell_type": "code",
   "execution_count": null,
   "metadata": {},
   "outputs": [],
   "source": [
    "reader = IMMReader8ID(IMM_FILE)\n",
    "\n",
    "# Get the data read from the reader\n",
    "indices, values = reader.data()\n",
    "sparse_matrix = sparse_lil_index_value(indices, values, config['pixels'], mask)"
   ]
  },
  {
   "cell_type": "markdown",
   "metadata": {},
   "source": [
    "## Plotting\n",
    "\n",
    "Basic plotting to verify the data is read properly."
   ]
  },
  {
   "cell_type": "code",
   "execution_count": null,
   "metadata": {},
   "outputs": [],
   "source": [
    "pixel_sum = np.zeros(config['cols'] * config['rows'])\n",
    "for idx in range(len(indices)):\n",
    "    pixel_sum[indices[idx]] += values[idx]\n",
    "\n",
    "pixel_sum = np.reshape(pixel_sum, (config['cols'], config['rows']))\n",
    "plot_pix_sum(pixel_sum, config)"
   ]
  },
  {
   "cell_type": "markdown",
   "metadata": {},
   "source": [
    "## Analysis\n"
   ]
  },
  {
   "cell_type": "markdown",
   "metadata": {},
   "source": [
    "### Sparse Matrix\n",
    "\n",
    "Organized as list of list representations of sparse matrix. \n",
    "\n",
    "\n",
    "intensities = $$(f_5, f_4, \\dots, f_{200}), (f_9, f_10, \\dots, f_{150}) $$ \n",
    "indices = $$ (I_a, I_b) $$ \n",
    "\n",
    "\n",
    "As we are computing corelation that involves multiplying difference intensity values at a source index, and source + tau (step) index, we look them up using binaray search in the intensities array to speed up the computation. \n",
    "\n",
    "$$src\\_index = i$$\n",
    "$$dst\\_index = i + tau$$\n",
    "\n",
    "if dst_index found in binary_search(intensities):\n",
    "    $$ G2(I_a, tau) += f_{src\\_index} * f_{dst\\_index}$$"
   ]
  },
  {
   "cell_type": "code",
   "execution_count": null,
   "metadata": {},
   "outputs": [],
   "source": [
    "mini_config = {\n",
    "    'frames': config['frames'] if 'frames' in config else reader.frames_read,\n",
    "    'pixels': config['cols'] * config['rows'],\n",
    "    'delays_per_level': config['delays_per_level'] if 'delyas_per_level' in config else 4,\n",
    "    'rows': config['rows'],\n",
    "    'cols': config['cols'],  \n",
    "}"
   ]
  },
  {
   "cell_type": "code",
   "execution_count": null,
   "metadata": {},
   "outputs": [],
   "source": [
    "G2, IP, IF = multitau(sparse_matrix, config)"
   ]
  },
  {
   "cell_type": "code",
   "execution_count": null,
   "metadata": {},
   "outputs": [],
   "source": [
    "# In order to plot G2.\n",
    "G2_plot = G2[0].reshape(config['cols'], config['rows'])\n",
    "plot_as_image(G2_plot)"
   ]
  },
  {
   "cell_type": "code",
   "execution_count": null,
   "metadata": {},
   "outputs": [],
   "source": [
    "IP_plot = IP[0].reshape(config['cols'], config['rows'])\n",
    "plot_as_image(IP_plot)"
   ]
  },
  {
   "cell_type": "code",
   "execution_count": null,
   "metadata": {},
   "outputs": [],
   "source": [
    "IF_plot = IF[0].reshape(config['cols'], config['rows'])\n",
    "plot_as_image(IF_plot)"
   ]
  },
  {
   "cell_type": "markdown",
   "metadata": {},
   "source": [
    "### g2 stderror"
   ]
  },
  {
   "cell_type": "code",
   "execution_count": null,
   "metadata": {},
   "outputs": [],
   "source": [
    "def compute_g2(G2, IP, IF, config):\n",
    "\n",
    "    taus, pixels = G2.shape\n",
    "\n",
    "    total_static_partitions = np.max(config['sqmap'])\n",
    "    total_dynamic_partitions = np.max(config['dqmap'])\n",
    "    \n",
    "    # Final results\n",
    "    g2 = np.zeros((taus, total_dynamic_partitions))\n",
    "    g2_error = np.zeros((taus, total_dynamic_partitions))\n",
    "\n",
    "    g2Sums = np.zeros((taus, total_static_partitions))\n",
    "    ipSums = np.zeros((taus, total_static_partitions))\n",
    "    ifSums = np.zeros((taus, total_static_partitions))\n",
    "\n",
    "    dqmap = config['dqmap']\n",
    "    sqmap = config['sqmap']\n",
    "\n",
    "\n",
    "    IP_IF = IP * IF\n",
    "    normalizedG2 = G2 /  (np.where( IP_IF != 0, IP_IF, 10000))\n",
    "\n",
    "    # sum pixels for each static partitions\n",
    "    for i in range(total_static_partitions):\n",
    "        idx = (sqmap == i+1)\n",
    "        g2Sums[:, i] = np.mean(G2[:, idx.flatten()], axis=1)\n",
    "        ipSums[:, i] = np.mean(IP[:, idx.flatten()], axis=1)\n",
    "        ifSums[:, i] = np.mean(IF[:, idx.flatten()], axis=1)\n",
    "\n",
    "    ip_if_sums = ipSums * ifSums\n",
    "\n",
    "    # Compute G2 error. \n",
    "    for i in range(total_dynamic_partitions):\n",
    "        idx = (dqmap == i + 1)\n",
    "        idx = idx.flatten()\n",
    "        g2_error[:, i] = np.std(normalizedG2[:, idx], axis=1) / np.sqrt(pixels)\n",
    "\n",
    "    for i in range(total_dynamic_partitions):\n",
    "        low, high = np.amin(sqmap[dqmap == i+1]), np.max(sqmap[dqmap == i+1])\n",
    "        tmp_g2_sum = g2Sums[:, low-1:high-1]\n",
    "        g2[:, i] = np.mean(tmp_g2_sum / ip_if_sums[:, low-1:high-1], axis=1)\n",
    "    \n",
    "    return g2, g2_error"
   ]
  },
  {
   "cell_type": "code",
   "execution_count": null,
   "metadata": {},
   "outputs": [],
   "source": [
    "g2, g2_error = compute_g2(G2, IP, IF, config)"
   ]
  },
  {
   "cell_type": "code",
   "execution_count": null,
   "metadata": {},
   "outputs": [],
   "source": [
    "fig, m_axs = plt.subplots(4, 3, figsize=(25, 15))\n",
    "[c_ax for c_ax in m_axs.flatten()]\n",
    "idx = 0\n",
    "for ax in m_axs:\n",
    "    for ax2 in ax:\n",
    "        ax2.plot(g2[:, idx])  \n",
    "        ax2.set_xlabel('q-bin')\n",
    "        ax2.set_ylabel('tau')\n",
    "        ax2.grid(True)\n",
    "\n",
    "        idx += 1"
   ]
  },
  {
   "cell_type": "code",
   "execution_count": null,
   "metadata": {},
   "outputs": [],
   "source": []
  }
 ],
 "metadata": {
  "kernelspec": {
   "display_name": "Python 3",
   "language": "python",
   "name": "python3"
  },
  "language_info": {
   "codemirror_mode": {
    "name": "ipython",
    "version": 3
   },
   "file_extension": ".py",
   "mimetype": "text/x-python",
   "name": "python",
   "nbconvert_exporter": "python",
   "pygments_lexer": "ipython3",
   "version": "3.7.3"
  },
  "toc": {
   "base_numbering": 1,
   "nav_menu": {},
   "number_sections": true,
   "sideBar": true,
   "skip_h1_title": false,
   "title_cell": "Table of Contents",
   "title_sidebar": "Contents",
   "toc_cell": false,
   "toc_position": {},
   "toc_section_display": true,
   "toc_window_display": false
  }
 },
 "nbformat": 4,
 "nbformat_minor": 2
}
